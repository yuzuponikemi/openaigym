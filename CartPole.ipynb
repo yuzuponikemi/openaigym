{
 "cells": [
  {
   "cell_type": "code",
   "execution_count": 7,
   "id": "4d1ab773",
   "metadata": {},
   "outputs": [],
   "source": [
    "\n",
    "# Jupyterでmatplotlibを使用する宣言と、使用するライブラリの定義\n",
    "import gym\n",
    "import numpy as np\n",
    "import matplotlib.pyplot as plt\n",
    "%matplotlib inline\n"
   ]
  },
  {
   "cell_type": "code",
   "execution_count": 8,
   "id": "594404d0",
   "metadata": {},
   "outputs": [],
   "source": [
    "\n",
    "# 動画の描画関数の宣言\n",
    "# 参考URL http://nbviewer.jupyter.org/github/patrickmineault\n",
    "# /xcorr-notebooks/blob/master/Render%20OpenAI%20gym%20as%20GIF.ipynb\n",
    "from JSAnimation.IPython_display import display_animation\n",
    "from matplotlib import animation\n",
    "from IPython.display import display\n",
    " \n",
    " \n",
    "def display_frames_as_gif(frames):\n",
    "    \"\"\"\n",
    "    Displays a list of frames as a gif, with controls\n",
    "    \"\"\"\n",
    "    plt.figure(figsize=(frames[0].shape[1]/72.0, frames[0].shape[0]/72.0),\n",
    "               dpi=72)\n",
    "    patch = plt.imshow(frames[0])\n",
    "    plt.axis('off')\n",
    " \n",
    "    def animate(i):\n",
    "        patch.set_data(frames[i])\n",
    " \n",
    "    anim = animation.FuncAnimation(plt.gcf(), animate, frames=len(frames),\n",
    "                                   interval=50)\n",
    " \n",
    "    anim.save('movie_cartpole.mp4')  # 追記：動画の保存です\n",
    "    display(display_animation(anim, default_mode='loop'))"
   ]
  },
  {
   "cell_type": "code",
   "execution_count": 9,
   "id": "fdffbf06",
   "metadata": {},
   "outputs": [
    {
     "ename": "ValueError",
     "evalue": "too many values to unpack (expected 4)",
     "output_type": "error",
     "traceback": [
      "\u001b[1;31m---------------------------------------------------------------------------\u001b[0m",
      "\u001b[1;31mValueError\u001b[0m                                Traceback (most recent call last)",
      "Cell \u001b[1;32mIn[9], line 8\u001b[0m\n\u001b[0;32m      6\u001b[0m frames\u001b[39m.\u001b[39mappend(env\u001b[39m.\u001b[39mrender())  \u001b[39m# framesに各時刻の画像を追加していく\u001b[39;00m\n\u001b[0;32m      7\u001b[0m action \u001b[39m=\u001b[39m np\u001b[39m.\u001b[39mrandom\u001b[39m.\u001b[39mchoice(\u001b[39m2\u001b[39m)  \u001b[39m# 0(カートを左に押す),1(カートを右に押す)をランダムに返す\u001b[39;00m\n\u001b[1;32m----> 8\u001b[0m observation, reward, done, info \u001b[39m=\u001b[39m env\u001b[39m.\u001b[39mstep(action)  \u001b[39m# actionを実行する\u001b[39;00m\n",
      "\u001b[1;31mValueError\u001b[0m: too many values to unpack (expected 4)"
     ]
    }
   ],
   "source": [
    "\n",
    "# CartPoleをランダムに動かす\n",
    "frames = []\n",
    "env = gym.make('CartPole-v0')\n",
    "env.reset()\n",
    "for step in range(0, 200):\n",
    "    frames.append(env.render())  # framesに各時刻の画像を追加していく\n",
    "    action = np.random.choice(2)  # 0(カートを左に押す),1(カートを右に押す)をランダムに返す\n",
    "    observation, reward, done, info = env.step(action)  # actionを実行する"
   ]
  },
  {
   "cell_type": "code",
   "execution_count": null,
   "id": "806ec3d8",
   "metadata": {},
   "outputs": [],
   "source": []
  }
 ],
 "metadata": {
  "kernelspec": {
   "display_name": "rl_env",
   "language": "python",
   "name": "python3"
  },
  "language_info": {
   "codemirror_mode": {
    "name": "ipython",
    "version": 3
   },
   "file_extension": ".py",
   "mimetype": "text/x-python",
   "name": "python",
   "nbconvert_exporter": "python",
   "pygments_lexer": "ipython3",
   "version": "3.10.11"
  }
 },
 "nbformat": 4,
 "nbformat_minor": 5
}
